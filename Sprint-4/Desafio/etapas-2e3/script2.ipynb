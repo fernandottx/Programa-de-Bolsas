{
 "cells": [
  {
   "cell_type": "markdown",
   "id": "a04cd4a0",
   "metadata": {},
   "source": [
    "Importa as bibliotecas necessárias"
   ]
  },
  {
   "cell_type": "code",
   "execution_count": 1,
   "id": "6c3b94d8",
   "metadata": {},
   "outputs": [],
   "source": [
    "import boto3\n",
    "import pandas as pd\n",
    "import io\n",
    "import numpy as np\n",
    "import matplotlib.pyplot as plt"
   ]
  },
  {
   "cell_type": "markdown",
   "id": "2a879224",
   "metadata": {},
   "source": [
    "Define as chaves de acesso, token e região do AWS"
   ]
  },
  {
   "cell_type": "code",
   "execution_count": null,
   "id": "8427cb2b",
   "metadata": {},
   "outputs": [],
   "source": [
    "AWS_ACCESS_KEY_ID=\"XXX\"\n",
    "AWS_SECRET_ACCESS_KEY=\"YYY\"\n",
    "AWS_SESSION_TOKEN=\"ZZZ\"\n",
    "REGION_NAME=\"us-east-1\""
   ]
  },
  {
   "cell_type": "markdown",
   "id": "2652cbc1",
   "metadata": {},
   "source": [
    "Cria o cliente S3"
   ]
  },
  {
   "cell_type": "code",
   "execution_count": 9,
   "id": "fcbe5f57",
   "metadata": {},
   "outputs": [],
   "source": [
    "s3 = boto3.client('s3',\n",
    "    aws_access_key_id=AWS_ACCESS_KEY_ID,\n",
    "    aws_secret_access_key=AWS_SECRET_ACCESS_KEY,\n",
    "    aws_session_token=AWS_SESSION_TOKEN,\n",
    "    region_name=REGION_NAME\n",
    ")"
   ]
  },
  {
   "cell_type": "markdown",
   "id": "d6a62cc8",
   "metadata": {},
   "source": [
    "Define o nome do bucket e o nome do arquivo"
   ]
  },
  {
   "cell_type": "code",
   "execution_count": 10,
   "id": "125f414a",
   "metadata": {},
   "outputs": [],
   "source": [
    "bucket_name = 'programa-de-bolsas-fernando'\n",
    "object_key = 'etapa1/ca.csv'"
   ]
  },
  {
   "cell_type": "markdown",
   "id": "1852c810",
   "metadata": {},
   "source": [
    "Faz a conexão com o bucket e o objeto do S3 definidos anteriormente"
   ]
  },
  {
   "cell_type": "code",
   "execution_count": 11,
   "id": "e3e8b424",
   "metadata": {},
   "outputs": [],
   "source": [
    "response = s3.get_object(Bucket=bucket_name, Key=object_key)"
   ]
  },
  {
   "cell_type": "markdown",
   "id": "a206a4cc",
   "metadata": {},
   "source": [
    "Faz a leitura do arquivo csv \"csv.ca\""
   ]
  },
  {
   "cell_type": "code",
   "execution_count": 12,
   "id": "c1b8c023",
   "metadata": {},
   "outputs": [],
   "source": [
    "df = pd.read_csv(io.BytesIO(response['Body'].read()), encoding=\"ISO-8859-1\", sep=';')"
   ]
  },
  {
   "cell_type": "markdown",
   "id": "e8db0cc2",
   "metadata": {},
   "source": [
    "LIMPEZA/TRATAMENTO DE DADOS"
   ]
  },
  {
   "cell_type": "markdown",
   "id": "34f36437",
   "metadata": {},
   "source": [
    "Converte a coluna 'data_consulta' para datetime"
   ]
  },
  {
   "cell_type": "code",
   "execution_count": 13,
   "id": "3a4a156e",
   "metadata": {},
   "outputs": [],
   "source": [
    "df['data_consulta'] = pd.to_datetime(df['data_consulta'], dayfirst=True, errors='coerce')"
   ]
  },
  {
   "cell_type": "markdown",
   "id": "aa253fb5",
   "metadata": {},
   "source": [
    "Cria duas novas colunas: 'data' e 'hora'"
   ]
  },
  {
   "cell_type": "code",
   "execution_count": 14,
   "id": "8ad7e60a",
   "metadata": {},
   "outputs": [],
   "source": [
    "df['data'] = df['data_consulta'].dt.date\n",
    "df['hora'] = df['data_consulta'].dt.time"
   ]
  },
  {
   "cell_type": "markdown",
   "id": "0058cb4e",
   "metadata": {},
   "source": [
    "Remove a coluna 'data_consulta'"
   ]
  },
  {
   "cell_type": "code",
   "execution_count": 15,
   "id": "4e9e274f",
   "metadata": {},
   "outputs": [],
   "source": [
    "df = df.drop(columns='data_consulta')"
   ]
  },
  {
   "cell_type": "markdown",
   "id": "5f8ada69",
   "metadata": {},
   "source": [
    "Substitui celulas com espaços em branco para nulo"
   ]
  },
  {
   "cell_type": "code",
   "execution_count": 16,
   "id": "50d37f0d",
   "metadata": {},
   "outputs": [],
   "source": [
    "df = df.replace('', pd.NA) "
   ]
  },
  {
   "cell_type": "markdown",
   "id": "87bb68a9",
   "metadata": {},
   "source": [
    "Remove as celulas nulas"
   ]
  },
  {
   "cell_type": "code",
   "execution_count": 17,
   "id": "bc8e9ad8",
   "metadata": {},
   "outputs": [],
   "source": [
    "df = df.dropna()"
   ]
  },
  {
   "cell_type": "markdown",
   "id": "69ee2340",
   "metadata": {},
   "source": [
    "Converte a coluna 'idade' para int"
   ]
  },
  {
   "cell_type": "code",
   "execution_count": 18,
   "id": "cdcd4eef",
   "metadata": {},
   "outputs": [],
   "source": [
    "df['idade'] = df['idade'].astype(int)"
   ]
  },
  {
   "cell_type": "markdown",
   "id": "085d5d40",
   "metadata": {},
   "source": [
    "ANÁLISE 1 - Total de consultas de todo o período por especialidade para crianças e idosos do sexo feminino de todos os municípios da região Nordeste"
   ]
  },
  {
   "cell_type": "code",
   "execution_count": 19,
   "id": "7477ea1f",
   "metadata": {},
   "outputs": [],
   "source": [
    "filtro = (df['sexo'] == 'F') & ((df['idade'] <= 12) | (df['idade'] >= 60))\n",
    "analise1 = df[filtro].groupby('especialidade').size().reset_index(name='total_consultas')\n",
    "analise1 = analise1.sort_values(by='total_consultas', ascending=False)\n",
    "analise1_top10 = analise1.head(10)"
   ]
  },
  {
   "cell_type": "markdown",
   "id": "cec9c68f",
   "metadata": {},
   "source": [
    "Cria o gráfico de barras das 10 especialidades mais requisitadas por crianças e idosos do sexo feminino de todos os municípios da região Nordeste e salva como png"
   ]
  },
  {
   "cell_type": "code",
   "execution_count": 20,
   "id": "c3cd9e68",
   "metadata": {},
   "outputs": [],
   "source": [
    "plt.figure(figsize=(12, 6))\n",
    "bars = plt.barh(analise1_top10['especialidade'], analise1_top10['total_consultas'], color='skyblue')\n",
    "for bar in bars:\n",
    "    plt.text(bar.get_width() + 1, bar.get_y() + bar.get_height() / 2,\n",
    "             f'{int(bar.get_width())}', va='center')\n",
    "plt.ylabel('ESPECIALIDADE')\n",
    "plt.xlabel('TOTAL DE CONSULTAS')\n",
    "plt.title('Top 10 especialidades mais procuradas por crianças e idosos do sexo feminino')\n",
    "plt.tight_layout()\n",
    "plt.gca().invert_yaxis()\n",
    "plt.savefig('analise1.png')\n",
    "plt.close()"
   ]
  },
  {
   "cell_type": "markdown",
   "id": "f289dcdf",
   "metadata": {},
   "source": [
    "Salva o dataframe resultante da análise 1 como CSV"
   ]
  },
  {
   "cell_type": "code",
   "execution_count": 21,
   "id": "ee34c874",
   "metadata": {},
   "outputs": [],
   "source": [
    "analise1.to_csv(\"analise1.csv\", index=False)"
   ]
  },
  {
   "cell_type": "markdown",
   "id": "23ae9e92",
   "metadata": {},
   "source": [
    "Faz upload do dataframe resultante da análise 1 para o bucket"
   ]
  },
  {
   "cell_type": "code",
   "execution_count": 22,
   "id": "c9f10557",
   "metadata": {},
   "outputs": [],
   "source": [
    "arquivo_local = 'analise1.csv'     \n",
    "objeto_s3 = 'etapa2/analise1.csv'     \n",
    "s3.upload_file(\n",
    "    Filename=arquivo_local,\n",
    "    Bucket=bucket_name,\n",
    "    Key=objeto_s3\n",
    "    )"
   ]
  },
  {
   "cell_type": "markdown",
   "id": "fba8b472",
   "metadata": {},
   "source": [
    "ANÁLISE 2 - Conversão da idade para float e classificação por faixa etária de homens e mulheres de todo o período de todos os municípios da região Nordeste"
   ]
  },
  {
   "cell_type": "code",
   "execution_count": 23,
   "id": "f0f629db",
   "metadata": {},
   "outputs": [],
   "source": [
    "df['faixa'] = np.where(df['idade'] >= 18, 'maior de idade', 'menor de idade')\n",
    "df['idade_float'] = df['idade'].astype(float)\n",
    "analise2 = df[['idade', 'idade_float', 'faixa']]\n",
    "analise2_grafico = df['faixa'].value_counts()"
   ]
  },
  {
   "cell_type": "markdown",
   "id": "2e2fa887",
   "metadata": {},
   "source": [
    "Cria o gráfico de pizza da classificação por faixa etaria de homens e mulheres de todo o período de todos os municípios da região Nordeste e salva como png"
   ]
  },
  {
   "cell_type": "code",
   "execution_count": 24,
   "id": "e950717c",
   "metadata": {},
   "outputs": [],
   "source": [
    "plt.figure(figsize=(6, 6))\n",
    "plt.pie(analise2_grafico, labels=analise2_grafico.index, autopct='%1.1f%%', startangle=140, colors=['#66b3ff', '#ff9999'])\n",
    "plt.title('Classificação por faixa etária das pessoas')\n",
    "plt.tight_layout()\n",
    "plt.savefig('analise2.png')\n",
    "plt.close()"
   ]
  },
  {
   "cell_type": "markdown",
   "id": "63e61a38",
   "metadata": {},
   "source": [
    "Salva o dataframe resultante da análise 2 como CSV"
   ]
  },
  {
   "cell_type": "code",
   "execution_count": 25,
   "id": "30d650b9",
   "metadata": {},
   "outputs": [],
   "source": [
    "analise2.to_csv(\"analise2.csv\", index=False)"
   ]
  },
  {
   "cell_type": "markdown",
   "id": "b5d54984",
   "metadata": {},
   "source": [
    "Faz upload do dataframe resultante da análise 2 para o bucket"
   ]
  },
  {
   "cell_type": "code",
   "execution_count": 26,
   "id": "87dc1483",
   "metadata": {},
   "outputs": [],
   "source": [
    "arquivo_local = 'analise2.csv'  \n",
    "objeto_s3 = 'etapa2/analise2.csv'     \n",
    "s3.upload_file(\n",
    "    Filename=arquivo_local,\n",
    "    Bucket=bucket_name,\n",
    "    Key=objeto_s3\n",
    "    )"
   ]
  },
  {
   "cell_type": "markdown",
   "id": "c217e9f3",
   "metadata": {},
   "source": [
    "ANÁLISE 3 - Consultas de março com especialidade contendo 'urologia' para homens e mulheres de todos os municípios da região Nordeste"
   ]
  },
  {
   "cell_type": "code",
   "execution_count": 27,
   "id": "41c870f8",
   "metadata": {},
   "outputs": [],
   "source": [
    "df['data'] = pd.to_datetime(df['data'])\n",
    "df_marco_urologia = df[\n",
    "    (df['data'].dt.month == 3) &\n",
    "    (df['especialidade'].str.strip() == 'UROLOGIA')\n",
    "].reset_index()\n",
    "analise3 = df_marco_urologia[['data', 'especialidade']]\n",
    "analise3_grafico = analise3['data'].dt.date.value_counts().sort_index()"
   ]
  },
  {
   "cell_type": "markdown",
   "id": "1aa02c72",
   "metadata": {},
   "source": [
    "Cria o gráfico de linha da classificação das consultas em março na especialidade 'urologia' de homens e mulheres de todos os municípios da região Nordeste e salva como png"
   ]
  },
  {
   "cell_type": "code",
   "execution_count": 28,
   "id": "f6331544",
   "metadata": {},
   "outputs": [],
   "source": [
    "plt.figure(figsize=(10, 5))\n",
    "\n",
    "datas = pd.to_datetime(analise3_grafico.index).strftime('%d/%m')\n",
    "intervalo = 3\n",
    "posicoes_tick = range(0, len(datas), intervalo)\n",
    "datas_tick = [datas[i] for i in posicoes_tick]\n",
    "\n",
    "plt.plot(datas, analise3_grafico.values, marker='o', linestyle='-', color='green')\n",
    "plt.xticks(ticks=posicoes_tick, labels=datas_tick)\n",
    "plt.xlabel('DATA DA CONSULTA')\n",
    "plt.ylabel('TOTAL DE CONSULTAS')\n",
    "plt.title('Consultas em Março na Especialidade \"Urologia\"')\n",
    "plt.tight_layout()\n",
    "plt.grid()\n",
    "plt.savefig('analise3.png')\n",
    "plt.close()"
   ]
  },
  {
   "cell_type": "markdown",
   "id": "08bb0dce",
   "metadata": {},
   "source": [
    "Salva o dataframe resultante da análise 3 como CSV"
   ]
  },
  {
   "cell_type": "code",
   "execution_count": 29,
   "id": "cc8360e0",
   "metadata": {},
   "outputs": [],
   "source": [
    "analise3.to_csv(\"analise3.csv\", index=False)"
   ]
  },
  {
   "cell_type": "markdown",
   "id": "2c7b99c6",
   "metadata": {},
   "source": [
    "Faz upload do dataframe resultante da análise 3 para o bucket"
   ]
  },
  {
   "cell_type": "code",
   "execution_count": 30,
   "id": "6cb4cf47",
   "metadata": {},
   "outputs": [],
   "source": [
    "arquivo_local = 'analise3.csv'     \n",
    "objeto_s3 = 'etapa2/analise3.csv'     \n",
    "s3.upload_file(\n",
    "    Filename=arquivo_local,\n",
    "    Bucket=bucket_name,\n",
    "    Key=objeto_s3\n",
    "    )"
   ]
  },
  {
   "cell_type": "markdown",
   "id": "00d06c6f",
   "metadata": {},
   "source": [
    "Imprime os resultados das 3 análises"
   ]
  },
  {
   "cell_type": "code",
   "execution_count": 31,
   "id": "ae4ab53f",
   "metadata": {},
   "outputs": [
    {
     "name": "stdout",
     "output_type": "stream",
     "text": [
      "\n",
      "Análise 1 – Total de consultas de todo o período por especialidade para crianças e idosos do sexo feminino de todos os municípios da região Nordeste:\n",
      "\n",
      "                especialidade  total_consultas\n",
      "42               OFTALMOLOGIA             1080\n",
      "43          ONCOLOGIA CLÍNICA              775\n",
      "20               FISIOTERAPIA              720\n",
      "2                 CARDIOLOGIA              627\n",
      "48                  PEDIATRIA              540\n",
      "..                        ...              ...\n",
      "61             SERVIÇO SOCIAL                5\n",
      "5           CIRURGIA CARDIACA                3\n",
      "52            PRE-TRANSPLANTE                3\n",
      "41     ODONTOLOGIA PEDIATRICA                2\n",
      "30  MEDICINA INTERVENCIONISTA                2\n",
      "\n",
      "[66 rows x 2 columns]\n",
      "\n",
      "Análise 2 – Conversão da idade para float e classificação por faixa etária de homens e mulheres de todo o período de todos os municípios da região Nordeste:\n",
      "\n",
      "       idade  idade_float           faixa\n",
      "0         64         64.0  maior de idade\n",
      "1         61         61.0  maior de idade\n",
      "2         67         67.0  maior de idade\n",
      "3         36         36.0  maior de idade\n",
      "4         75         75.0  maior de idade\n",
      "...      ...          ...             ...\n",
      "49722     72         72.0  maior de idade\n",
      "49723     66         66.0  maior de idade\n",
      "49724     65         65.0  maior de idade\n",
      "49725     63         63.0  maior de idade\n",
      "49726     71         71.0  maior de idade\n",
      "\n",
      "[44819 rows x 3 columns]\n",
      "\n",
      "Análise 3 – Consultas de março com especialidade contendo 'urologia' para homens e mulheres de todos os municípios da região Nordeste:\n",
      "\n",
      "          data especialidade\n",
      "0   2024-03-25      UROLOGIA\n",
      "1   2024-03-25      UROLOGIA\n",
      "2   2024-03-11      UROLOGIA\n",
      "3   2024-03-11      UROLOGIA\n",
      "4   2024-03-04      UROLOGIA\n",
      "..         ...           ...\n",
      "846 2024-03-12      UROLOGIA\n",
      "847 2024-03-12      UROLOGIA\n",
      "848 2024-03-12      UROLOGIA\n",
      "849 2024-03-12      UROLOGIA\n",
      "850 2024-03-05      UROLOGIA\n",
      "\n",
      "[851 rows x 2 columns]\n"
     ]
    }
   ],
   "source": [
    "print(\"\\nAnálise 1 – Total de consultas de todo o período por especialidade para crianças e idosos do sexo feminino de todos os municípios da região Nordeste:\\n\")\n",
    "print(analise1)\n",
    "\n",
    "print(\"\\nAnálise 2 – Conversão da idade para float e classificação por faixa etária de homens e mulheres de todo o período de todos os municípios da região Nordeste:\\n\")\n",
    "print(analise2)\n",
    "\n",
    "print(\"\\nAnálise 3 – Consultas de março com especialidade contendo 'urologia' para homens e mulheres de todos os municípios da região Nordeste:\\n\")\n",
    "print(analise3)"
   ]
  }
 ],
 "metadata": {
  "kernelspec": {
   "display_name": "Python 3",
   "language": "python",
   "name": "python3"
  },
  "language_info": {
   "codemirror_mode": {
    "name": "ipython",
    "version": 3
   },
   "file_extension": ".py",
   "mimetype": "text/x-python",
   "name": "python",
   "nbconvert_exporter": "python",
   "pygments_lexer": "ipython3",
   "version": "3.13.3"
  }
 },
 "nbformat": 4,
 "nbformat_minor": 5
}
