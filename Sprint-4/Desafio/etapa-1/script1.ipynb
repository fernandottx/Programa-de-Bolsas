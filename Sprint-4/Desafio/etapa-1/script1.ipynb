{
 "cells": [
  {
   "cell_type": "markdown",
   "id": "b3d068cf",
   "metadata": {},
   "source": [
    "Importa as bibliotecas necessárias"
   ]
  },
  {
   "cell_type": "code",
   "execution_count": null,
   "id": "dfce85de",
   "metadata": {},
   "outputs": [],
   "source": [
    "import boto3\n",
    "import json"
   ]
  },
  {
   "cell_type": "markdown",
   "id": "c54ff4d7",
   "metadata": {},
   "source": [
    "Define as chaves de acesso, token e região do AWS"
   ]
  },
  {
   "cell_type": "code",
   "execution_count": null,
   "id": "d2392588",
   "metadata": {},
   "outputs": [],
   "source": [
    "AWS_ACCESS_KEY_ID=\"XXX\"\n",
    "AWS_SECRET_ACCESS_KEY=\"YYY\"\n",
    "AWS_SESSION_TOKEN=\"ZZZ\"\n",
    "REGION_NAME=\"us-east-1\""
   ]
  },
  {
   "cell_type": "markdown",
   "id": "39991db0",
   "metadata": {},
   "source": [
    "Cria o cliente S3"
   ]
  },
  {
   "cell_type": "code",
   "execution_count": null,
   "id": "fe2d0c51",
   "metadata": {},
   "outputs": [],
   "source": [
    "s3 = boto3.client(\n",
    "    's3',\n",
    "    aws_access_key_id=AWS_ACCESS_KEY_ID,\n",
    "    aws_secret_access_key=AWS_SECRET_ACCESS_KEY,\n",
    "    aws_session_token=AWS_SESSION_TOKEN,\n",
    "    region_name=REGION_NAME\n",
    ")"
   ]
  },
  {
   "cell_type": "markdown",
   "id": "809faa4b",
   "metadata": {},
   "source": [
    "Cria um bucket com nome de \"programa-de-bolsas-fernando\""
   ]
  },
  {
   "cell_type": "code",
   "execution_count": null,
   "id": "d159cc87",
   "metadata": {},
   "outputs": [],
   "source": [
    "bucket_name = 'programa-de-bolsas-fernando'\n",
    "\n",
    "s3.create_bucket(\n",
    "    Bucket=bucket_name\n",
    "    )"
   ]
  },
  {
   "cell_type": "markdown",
   "id": "4f006a46",
   "metadata": {},
   "source": [
    "Remove bloqueios de acesso público"
   ]
  },
  {
   "cell_type": "code",
   "execution_count": null,
   "id": "51e50f16",
   "metadata": {},
   "outputs": [],
   "source": [
    "s3.put_public_access_block(\n",
    "    Bucket=bucket_name,\n",
    "    PublicAccessBlockConfiguration={\n",
    "        'BlockPublicAcls': False,\n",
    "        'IgnorePublicAcls': False,\n",
    "        'BlockPublicPolicy': False,\n",
    "        'RestrictPublicBuckets': False\n",
    "    }\n",
    ")"
   ]
  },
  {
   "cell_type": "markdown",
   "id": "a9b37e38",
   "metadata": {},
   "source": [
    "Aplica política de leitura pública"
   ]
  },
  {
   "cell_type": "code",
   "execution_count": null,
   "id": "752be050",
   "metadata": {},
   "outputs": [],
   "source": [
    "s3.put_bucket_policy(\n",
    "    Bucket=bucket_name,\n",
    "    Policy=json.dumps({\n",
    "        \"Version\": \"2012-10-17\",\n",
    "        \"Statement\": [\n",
    "            {\n",
    "                \"Sid\": \"PublicReadGetObject\",\n",
    "                \"Effect\": \"Allow\",\n",
    "                \"Principal\": \"*\",\n",
    "                \"Action\": \"s3:GetObject\",\n",
    "                \"Resource\": f\"arn:aws:s3:::{bucket_name}/*\"\n",
    "            }\n",
    "        ]\n",
    "    })\n",
    ")"
   ]
  },
  {
   "cell_type": "markdown",
   "id": "55e67d47",
   "metadata": {},
   "source": [
    "Mostra a mensagem de sucesso da criação do bucket"
   ]
  },
  {
   "cell_type": "code",
   "execution_count": null,
   "id": "d32e1491",
   "metadata": {},
   "outputs": [],
   "source": [
    "print(f'\\nBucket \"{bucket_name}\" criado com sucesso.')"
   ]
  },
  {
   "cell_type": "markdown",
   "id": "af52b36d",
   "metadata": {},
   "source": [
    "Faz upload do arquivo \"ca.csv\" para o bucket"
   ]
  },
  {
   "cell_type": "code",
   "execution_count": null,
   "id": "e9347cfd",
   "metadata": {},
   "outputs": [],
   "source": [
    "arquivo_local = 'ca.csv'     \n",
    "objeto_s3 = 'etapa1/ca.csv'     \n",
    "\n",
    "s3.upload_file(\n",
    "    Filename=arquivo_local,\n",
    "    Bucket=bucket_name,\n",
    "    Key=objeto_s3\n",
    "    )"
   ]
  },
  {
   "cell_type": "markdown",
   "id": "4bb9fd34",
   "metadata": {},
   "source": [
    "Mostra a mensagem de sucesso do upload do arquivo \"ca.csv\" para o bucket"
   ]
  },
  {
   "cell_type": "code",
   "execution_count": null,
   "id": "f8f5df6b",
   "metadata": {},
   "outputs": [],
   "source": [
    "print(f'Arquivo enviado como \"{objeto_s3}\" para o bucket \"{bucket_name}\".')"
   ]
  }
 ],
 "metadata": {
  "kernelspec": {
   "display_name": "Python 3",
   "language": "python",
   "name": "python3"
  },
  "language_info": {
   "codemirror_mode": {
    "name": "ipython",
    "version": 3
   },
   "file_extension": ".py",
   "mimetype": "text/x-python",
   "name": "python",
   "nbconvert_exporter": "python",
   "pygments_lexer": "ipython3",
   "version": "3.13.3"
  }
 },
 "nbformat": 4,
 "nbformat_minor": 5
}
