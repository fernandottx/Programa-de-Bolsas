{
  "cells": [
    {
      "cell_type": "markdown",
      "id": "f9e938c0-20d6-4ba2-aa8a-6fd11ba4e4c2",
      "metadata": {},
      "source": [
        "Importa as bibliotecas necessárias"
      ]
    },
    {
      "cell_type": "code",
      "execution_count": 8,
      "id": "a1f640de-7817-4085-af1f-4cb6742f010f",
      "metadata": {
        "trusted": true
      },
      "outputs": [],
      "source": [
        "import pandas as pd"
      ]
    },
    {
      "cell_type": "markdown",
      "id": "b2f47754-bdc2-4578-bd6c-0fb429f30048",
      "metadata": {},
      "source": [
        "Lê o arquivo CSV para um DataFrame do pandas"
      ]
    },
    {
      "cell_type": "code",
      "execution_count": 9,
      "id": "f2ded765-f8c6-4107-830c-c61ea7c85b27",
      "metadata": {
        "trusted": true
      },
      "outputs": [],
      "source": [
        "df = pd.read_csv('googleplaystore.csv')"
      ]
    },
    {
      "cell_type": "markdown",
      "id": "b7cc50c1-7684-499f-8a44-9301e7bf74e5",
      "metadata": {},
      "source": [
        "Remove as linhas duplicadas com base em todas as colunas"
      ]
    },
    {
      "cell_type": "code",
      "execution_count": 10,
      "id": "5508f712-d90e-45e0-a7fb-2bcf4b579c31",
      "metadata": {
        "trusted": true
      },
      "outputs": [],
      "source": [
        "df_sem_duplicatas = df.drop_duplicates()"
      ]
    },
    {
      "cell_type": "markdown",
      "id": "7aabae13-4b9c-4fe3-b698-74a66e22a011",
      "metadata": {},
      "source": [
        "Converte a coluna 'Reviews' para tipo numérico (inteiro), tratando possíveis erros"
      ]
    },
    {
      "cell_type": "code",
      "execution_count": 11,
      "id": "536297e9-cbe8-4936-b5a4-fc6267029e9d",
      "metadata": {
        "trusted": true
      },
      "outputs": [
        {
          "name": "stderr",
          "output_type": "stream",
          "text": [
            "C:\\Users\\Fernando\\AppData\\Local\\Temp\\ipykernel_9360\\3439297556.py:1: SettingWithCopyWarning: \n",
            "A value is trying to be set on a copy of a slice from a DataFrame.\n",
            "Try using .loc[row_indexer,col_indexer] = value instead\n",
            "\n",
            "See the caveats in the documentation: https://pandas.pydata.org/pandas-docs/stable/user_guide/indexing.html#returning-a-view-versus-a-copy\n",
            "  df_sem_duplicatas['Reviews'] = pd.to_numeric(df_sem_duplicatas['Reviews'], errors='coerce')\n"
          ]
        }
      ],
      "source": [
        "df_sem_duplicatas['Reviews'] = pd.to_numeric(df_sem_duplicatas['Reviews'], errors='coerce')"
      ]
    },
    {
      "cell_type": "markdown",
      "id": "0c9d3215-a243-420b-8e76-0cc01e1a5fa5",
      "metadata": {},
      "source": [
        "Remove linhas onde o número de reviews é nulo"
      ]
    },
    {
      "cell_type": "code",
      "execution_count": 12,
      "id": "c7a53609-186c-4d34-992e-fe0fb62ed23a",
      "metadata": {
        "trusted": true
      },
      "outputs": [],
      "source": [
        "df_reviews_validos = df_sem_duplicatas.dropna(subset=['Reviews'])"
      ]
    },
    {
      "cell_type": "markdown",
      "id": "27d3977c-1ce0-4f87-8f30-8c515da7991b",
      "metadata": {},
      "source": [
        "Agrupa os dados por nome do app e soma os reviews (caso o mesmo app apareça mais de uma vez)"
      ]
    },
    {
      "cell_type": "code",
      "execution_count": 13,
      "id": "7ad1965d-f018-407c-a28c-6f899e00af40",
      "metadata": {
        "trusted": true
      },
      "outputs": [],
      "source": [
        "apps_reviews = df_reviews_validos.groupby('App')['Reviews'].sum()"
      ]
    },
    {
      "cell_type": "markdown",
      "id": "3c3b1d66",
      "metadata": {},
      "source": [
        "Ordena os apps pelo número de reviews em ordem decrescente e seleciona os 10 primeiros"
      ]
    },
    {
      "cell_type": "code",
      "execution_count": 14,
      "id": "e534ae96",
      "metadata": {},
      "outputs": [],
      "source": [
        "top_10_reviews = apps_reviews.sort_values(ascending=False).head(10)"
      ]
    },
    {
      "cell_type": "markdown",
      "id": "b97bddb2",
      "metadata": {},
      "source": [
        "Mostra os 10 apps com maior número de reviews e seus respectivos valores"
      ]
    },
    {
      "cell_type": "code",
      "execution_count": 15,
      "id": "0964f7a7",
      "metadata": {},
      "outputs": [
        {
          "name": "stdout",
          "output_type": "stream",
          "text": [
            "Top 10 apps por número de reviews:\n",
            "App\n",
            "Instagram                                   199664676.0\n",
            "Facebook                                    156286514.0\n",
            "Subway Surfers                              138606606.0\n",
            "WhatsApp Messenger                          138228988.0\n",
            "Clash of Clans                              134667058.0\n",
            "Messenger – Text and Video Chat for Free    113289425.0\n",
            "Candy Crush Saga                            112134492.0\n",
            "8 Ball Pool                                  99386198.0\n",
            "Clash Royale                                 92530298.0\n",
            "Snapchat                                     68045010.0\n",
            "Name: Reviews, dtype: float64\n"
          ]
        }
      ],
      "source": [
        "print(\"Top 10 apps por número de reviews:\")\n",
        "print(top_10_reviews)"
      ]
    }
  ],
  "metadata": {
    "kernelspec": {
      "display_name": "Python 3",
      "language": "python",
      "name": "python3"
    },
    "language_info": {
      "codemirror_mode": {
        "name": "ipython",
        "version": 3
      },
      "file_extension": ".py",
      "mimetype": "text/x-python",
      "name": "python",
      "nbconvert_exporter": "python",
      "pygments_lexer": "ipython3",
      "version": "3.13.3"
    }
  },
  "nbformat": 4,
  "nbformat_minor": 5
}
