{
  "cells": [
    {
      "cell_type": "markdown",
      "id": "e69218fd-a457-4103-a51a-56e3aa94547d",
      "metadata": {},
      "source": [
        "Importa as bibliotecas necessárias"
      ]
    },
    {
      "cell_type": "code",
      "execution_count": 1,
      "id": "5dfa2549-e4f7-4a63-b09b-9a1fb5c5a7cd",
      "metadata": {
        "trusted": true
      },
      "outputs": [],
      "source": [
        "import pandas as pd"
      ]
    },
    {
      "cell_type": "markdown",
      "id": "a08d23d1-b43e-4279-9a96-88fcd0af1c95",
      "metadata": {},
      "source": [
        "Lê o arquivo CSV para um DataFrame do pandas"
      ]
    },
    {
      "cell_type": "code",
      "execution_count": 2,
      "id": "178e958d-c96f-40bb-83da-1568c919760b",
      "metadata": {
        "trusted": true
      },
      "outputs": [],
      "source": [
        "df = pd.read_csv('googleplaystore.csv')"
      ]
    },
    {
      "cell_type": "markdown",
      "id": "cf9dfa28-a332-48cf-9c5a-096080d85c96",
      "metadata": {},
      "source": [
        "Remove as linhas duplicadas com base em todas as colunas"
      ]
    },
    {
      "cell_type": "code",
      "execution_count": 3,
      "id": "2293fa6d-f6b3-4afd-bdc7-42432da4f66a",
      "metadata": {
        "trusted": true
      },
      "outputs": [],
      "source": [
        "df_sem_duplicatas = df.drop_duplicates()"
      ]
    },
    {
      "cell_type": "markdown",
      "id": "1991e860-6033-4f92-87c5-478bc80de477",
      "metadata": {},
      "source": [
        "Remove o símbolo de dólar da coluna 'Price' e converte para numérico"
      ]
    },
    {
      "cell_type": "code",
      "execution_count": 4,
      "id": "a2fd192b-cd2d-4d98-b0ba-8643c3ec67c9",
      "metadata": {
        "trusted": true
      },
      "outputs": [
        {
          "name": "stderr",
          "output_type": "stream",
          "text": [
            "C:\\Users\\Fernando\\AppData\\Local\\Temp\\ipykernel_8868\\3743699144.py:1: SettingWithCopyWarning: \n",
            "A value is trying to be set on a copy of a slice from a DataFrame.\n",
            "Try using .loc[row_indexer,col_indexer] = value instead\n",
            "\n",
            "See the caveats in the documentation: https://pandas.pydata.org/pandas-docs/stable/user_guide/indexing.html#returning-a-view-versus-a-copy\n",
            "  df_sem_duplicatas['Price'] = df_sem_duplicatas['Price'].str.replace('$', '')\n",
            "C:\\Users\\Fernando\\AppData\\Local\\Temp\\ipykernel_8868\\3743699144.py:2: SettingWithCopyWarning: \n",
            "A value is trying to be set on a copy of a slice from a DataFrame.\n",
            "Try using .loc[row_indexer,col_indexer] = value instead\n",
            "\n",
            "See the caveats in the documentation: https://pandas.pydata.org/pandas-docs/stable/user_guide/indexing.html#returning-a-view-versus-a-copy\n",
            "  df_sem_duplicatas['Price'] = pd.to_numeric(df_sem_duplicatas['Price'], errors='coerce')\n"
          ]
        }
      ],
      "source": [
        "df_sem_duplicatas['Price'] = df_sem_duplicatas['Price'].str.replace('$', '')\n",
        "df_sem_duplicatas['Price'] = pd.to_numeric(df_sem_duplicatas['Price'], errors='coerce')"
      ]
    },
    {
      "cell_type": "markdown",
      "id": "55322736-6589-47a9-8202-4234bd1f2260",
      "metadata": {},
      "source": [
        "Remove linhas com valores nulos na coluna 'Price'"
      ]
    },
    {
      "cell_type": "code",
      "execution_count": 5,
      "id": "4e9a677f-e944-4a44-ab17-9a080c456134",
      "metadata": {
        "trusted": true
      },
      "outputs": [],
      "source": [
        "df_precos_validos = df_sem_duplicatas.dropna(subset=['Price'])"
      ]
    },
    {
      "cell_type": "markdown",
      "id": "7679accd-9d78-4418-a7a8-93e76572717f",
      "metadata": {},
      "source": [
        "Localiza a linha onde o preço é o maior valor encontrado"
      ]
    },
    {
      "cell_type": "code",
      "execution_count": 6,
      "id": "7ec3330e-34d6-40ef-b2f9-971b7a3e0e7f",
      "metadata": {
        "trusted": true
      },
      "outputs": [],
      "source": [
        "app_mais_caro = df_precos_validos[df_precos_validos['Price'] == df_precos_validos['Price'].max()]"
      ]
    },
    {
      "cell_type": "markdown",
      "id": "4087bbcd-42fc-470e-8b20-d684a59e2a36",
      "metadata": {},
      "source": [
        "Exibe as informações do app mais caro"
      ]
    },
    {
      "cell_type": "code",
      "execution_count": 7,
      "id": "fc4b1489-04a0-4c57-9cf4-f3558f0cd64f",
      "metadata": {
        "trusted": true
      },
      "outputs": [
        {
          "name": "stdout",
          "output_type": "stream",
          "text": [
            "App mais caro encontrado no dataset:\n",
            "                           App   Category  Rating Reviews  Size Installs  \\\n",
            "4367  I'm Rich - Trump Edition  LIFESTYLE     3.6     275  7.3M  10,000+   \n",
            "\n",
            "      Type  Price Content Rating     Genres Last Updated Current Ver  \\\n",
            "4367  Paid  400.0       Everyone  Lifestyle  May 3, 2018       1.0.1   \n",
            "\n",
            "     Android Ver  \n",
            "4367  4.1 and up  \n"
          ]
        }
      ],
      "source": [
        "print(\"App mais caro encontrado no dataset:\")\n",
        "print(app_mais_caro)"
      ]
    }
  ],
  "metadata": {
    "kernelspec": {
      "display_name": "Python 3",
      "language": "python",
      "name": "python3"
    },
    "language_info": {
      "codemirror_mode": {
        "name": "ipython",
        "version": 3
      },
      "file_extension": ".py",
      "mimetype": "text/x-python",
      "name": "python",
      "nbconvert_exporter": "python",
      "pygments_lexer": "ipython3",
      "version": "3.13.3"
    }
  },
  "nbformat": 4,
  "nbformat_minor": 5
}
