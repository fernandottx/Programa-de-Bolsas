{
  "cells": [
    {
      "cell_type": "markdown",
      "id": "fda19b35-6adb-4294-b7ef-724fe383d074",
      "metadata": {},
      "source": [
        "Importa as bibliotecas necessárias"
      ]
    },
    {
      "cell_type": "code",
      "execution_count": 16,
      "id": "c76b6121-d04e-45c3-90bc-665a8a584ccc",
      "metadata": {
        "trusted": true
      },
      "outputs": [],
      "source": [
        "import pandas as pd"
      ]
    },
    {
      "cell_type": "markdown",
      "id": "e8efa456-88cb-4985-a3a0-4e2a0e321b64",
      "metadata": {},
      "source": [
        "Lê o arquivo CSV para um DataFrame do pandas"
      ]
    },
    {
      "cell_type": "code",
      "execution_count": 17,
      "id": "25afbbbb-86a2-45b9-b958-7ba2accd8938",
      "metadata": {
        "trusted": true
      },
      "outputs": [],
      "source": [
        "df = pd.read_csv('googleplaystore.csv')"
      ]
    },
    {
      "cell_type": "markdown",
      "id": "6c6de5cc-d113-4e04-b10e-9811c1e4853a",
      "metadata": {},
      "source": [
        "Variável para mostrar a quantidade de linhas e colunas antes da remoção das linhas duplicadas"
      ]
    },
    {
      "cell_type": "code",
      "execution_count": 18,
      "id": "62a0cb65-94ff-44ce-bbf4-4424fe4f9386",
      "metadata": {
        "trusted": true
      },
      "outputs": [],
      "source": [
        "antes = df.shape"
      ]
    },
    {
      "cell_type": "markdown",
      "id": "4dd7e8cd-7ddb-4a43-88f3-ff26cab75e7d",
      "metadata": {},
      "source": [
        "Remove as linhas duplicadas com base em todas as colunas"
      ]
    },
    {
      "cell_type": "code",
      "execution_count": 19,
      "id": "3331654e-760d-4a50-b900-6c735289f4c5",
      "metadata": {
        "trusted": true
      },
      "outputs": [],
      "source": [
        "df_sem_duplicatas = df.drop_duplicates()"
      ]
    },
    {
      "cell_type": "markdown",
      "id": "cb3ebf5b-da03-46a3-a3e4-161ff6daa10d",
      "metadata": {},
      "source": [
        "Variável para mostrar a quantidade de linhas e colunas após a remoção das linhas duplicadas"
      ]
    },
    {
      "cell_type": "code",
      "execution_count": 20,
      "id": "69f70615-8013-4292-95bc-b36ddce2d963",
      "metadata": {
        "trusted": true
      },
      "outputs": [],
      "source": [
        "depois = df_sem_duplicatas.shape"
      ]
    },
    {
      "cell_type": "markdown",
      "id": "ddc8ca91-141b-4ca0-92e8-9985ba4f07cd",
      "metadata": {},
      "source": [
        "Imprime a quantidade de linhas e colunas antes e depois da remoção das linhas duplicadas"
      ]
    },
    {
      "cell_type": "code",
      "execution_count": 21,
      "id": "219caa21-157b-4e3c-8039-e240e3062a8b",
      "metadata": {
        "jupyter": {
          "source_hidden": true
        },
        "trusted": true
      },
      "outputs": [
        {
          "name": "stdout",
          "output_type": "stream",
          "text": [
            "Quantidade de linhas e colunas antes: (10841, 13)\n",
            "Quantidade de linhas e colunas depois: (10358, 13)\n",
            "\n"
          ]
        }
      ],
      "source": [
        "print(f'Quantidade de linhas e colunas antes: {antes}')\n",
        "print(f'Quantidade de linhas e colunas depois: {depois}\\n')"
      ]
    },
    {
      "cell_type": "markdown",
      "id": "31dade83-62e6-4613-a1af-694168aa34c8",
      "metadata": {},
      "source": [
        "Imprime o DataFrame sem duplicatas"
      ]
    },
    {
      "cell_type": "code",
      "execution_count": 22,
      "id": "7825d451-c049-4a67-afcb-1ee62e6cd63a",
      "metadata": {
        "trusted": true
      },
      "outputs": [
        {
          "name": "stdout",
          "output_type": "stream",
          "text": [
            "                                                     App             Category  \\\n",
            "0         Photo Editor & Candy Camera & Grid & ScrapBook       ART_AND_DESIGN   \n",
            "1                                    Coloring book moana       ART_AND_DESIGN   \n",
            "2      U Launcher Lite – FREE Live Cool Themes, Hide ...       ART_AND_DESIGN   \n",
            "3                                  Sketch - Draw & Paint       ART_AND_DESIGN   \n",
            "4                  Pixel Draw - Number Art Coloring Book       ART_AND_DESIGN   \n",
            "...                                                  ...                  ...   \n",
            "10836                                   Sya9a Maroc - FR               FAMILY   \n",
            "10837                   Fr. Mike Schmitz Audio Teachings               FAMILY   \n",
            "10838                             Parkinson Exercices FR              MEDICAL   \n",
            "10839                      The SCP Foundation DB fr nn5n  BOOKS_AND_REFERENCE   \n",
            "10840      iHoroscope - 2018 Daily Horoscope & Astrology            LIFESTYLE   \n",
            "\n",
            "       Rating Reviews                Size     Installs  Type Price  \\\n",
            "0         4.1     159                 19M      10,000+  Free     0   \n",
            "1         3.9     967                 14M     500,000+  Free     0   \n",
            "2         4.7   87510                8.7M   5,000,000+  Free     0   \n",
            "3         4.5  215644                 25M  50,000,000+  Free     0   \n",
            "4         4.3     967                2.8M     100,000+  Free     0   \n",
            "...       ...     ...                 ...          ...   ...   ...   \n",
            "10836     4.5      38                 53M       5,000+  Free     0   \n",
            "10837     5.0       4                3.6M         100+  Free     0   \n",
            "10838     NaN       3                9.5M       1,000+  Free     0   \n",
            "10839     4.5     114  Varies with device       1,000+  Free     0   \n",
            "10840     4.5  398307                 19M  10,000,000+  Free     0   \n",
            "\n",
            "      Content Rating                     Genres      Last Updated  \\\n",
            "0           Everyone               Art & Design   January 7, 2018   \n",
            "1           Everyone  Art & Design;Pretend Play  January 15, 2018   \n",
            "2           Everyone               Art & Design    August 1, 2018   \n",
            "3               Teen               Art & Design      June 8, 2018   \n",
            "4           Everyone    Art & Design;Creativity     June 20, 2018   \n",
            "...              ...                        ...               ...   \n",
            "10836       Everyone                  Education     July 25, 2017   \n",
            "10837       Everyone                  Education      July 6, 2018   \n",
            "10838       Everyone                    Medical  January 20, 2017   \n",
            "10839     Mature 17+          Books & Reference  January 19, 2015   \n",
            "10840       Everyone                  Lifestyle     July 25, 2018   \n",
            "\n",
            "              Current Ver         Android Ver  \n",
            "0                   1.0.0        4.0.3 and up  \n",
            "1                   2.0.0        4.0.3 and up  \n",
            "2                   1.2.4        4.0.3 and up  \n",
            "3      Varies with device          4.2 and up  \n",
            "4                     1.1          4.4 and up  \n",
            "...                   ...                 ...  \n",
            "10836                1.48          4.1 and up  \n",
            "10837                 1.0          4.1 and up  \n",
            "10838                 1.0          2.2 and up  \n",
            "10839  Varies with device  Varies with device  \n",
            "10840  Varies with device  Varies with device  \n",
            "\n",
            "[10358 rows x 13 columns]\n"
          ]
        }
      ],
      "source": [
        "print(df_sem_duplicatas)"
      ]
    }
  ],
  "metadata": {
    "kernelspec": {
      "display_name": "Python 3",
      "language": "python",
      "name": "python3"
    },
    "language_info": {
      "codemirror_mode": {
        "name": "ipython",
        "version": 3
      },
      "file_extension": ".py",
      "mimetype": "text/x-python",
      "name": "python",
      "nbconvert_exporter": "python",
      "pygments_lexer": "ipython3",
      "version": "3.13.3"
    }
  },
  "nbformat": 4,
  "nbformat_minor": 5
}
