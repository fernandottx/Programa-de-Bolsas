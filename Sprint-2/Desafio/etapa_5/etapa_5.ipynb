{
  "cells": [
    {
      "cell_type": "markdown",
      "id": "f3c1fe67-b180-484a-88d7-6ed271a14641",
      "metadata": {},
      "source": [
        "Importa as bibliotecas necessárias"
      ]
    },
    {
      "cell_type": "code",
      "execution_count": 12,
      "id": "7987700c-1f47-4b0f-b338-f8e3f35d6713",
      "metadata": {
        "trusted": true
      },
      "outputs": [],
      "source": [
        "import pandas as pd"
      ]
    },
    {
      "cell_type": "markdown",
      "id": "4868d7e4-ef7b-4915-9555-bd88d22a3aba",
      "metadata": {},
      "source": [
        "Lê o arquivo CSV para um DataFrame do pandas"
      ]
    },
    {
      "cell_type": "code",
      "execution_count": 13,
      "id": "533a1892-503e-44e3-9a06-1979df116dc5",
      "metadata": {
        "trusted": true
      },
      "outputs": [],
      "source": [
        "df = pd.read_csv('googleplaystore.csv')"
      ]
    },
    {
      "cell_type": "markdown",
      "id": "91855099-63a7-40ed-b0d9-a807e170e24f",
      "metadata": {},
      "source": [
        "Remove as linhas duplicadas com base em todas as colunas"
      ]
    },
    {
      "cell_type": "code",
      "execution_count": 14,
      "id": "50e9deba-c952-40ac-b326-7274479ec51e",
      "metadata": {
        "trusted": true
      },
      "outputs": [],
      "source": [
        "df_sem_duplicatas = df.drop_duplicates()"
      ]
    },
    {
      "cell_type": "markdown",
      "id": "b530770c-51ab-4e40-8af5-15501a955cb5",
      "metadata": {},
      "source": [
        "Filtra o DataFrame para manter apenas os apps com 'Content Rating' igual a \"Mature 17+\""
      ]
    },
    {
      "cell_type": "code",
      "execution_count": 15,
      "id": "da5fc86a-31b8-40d4-91cf-173a9b01b29a",
      "metadata": {
        "trusted": true
      },
      "outputs": [],
      "source": [
        "apps_mature = df_sem_duplicatas[df_sem_duplicatas['Content Rating'] == 'Mature 17+']"
      ]
    },
    {
      "cell_type": "markdown",
      "id": "f4d18f18-5105-4685-83f5-ab275ef26ccf",
      "metadata": {},
      "source": [
        "Conta e exibe o número de apps classificados como \"Mature 17+\""
      ]
    },
    {
      "cell_type": "code",
      "execution_count": 16,
      "id": "5484d0a9-77a7-46a5-bfb5-63f2cdd826c3",
      "metadata": {
        "trusted": true
      },
      "outputs": [],
      "source": [
        "quantidade_mature = apps_mature.shape[0]"
      ]
    },
    {
      "cell_type": "markdown",
      "id": "9cf04a24",
      "metadata": {},
      "source": [
        "Imprime a quantidade total e o DataFrame"
      ]
    },
    {
      "cell_type": "code",
      "execution_count": 17,
      "id": "01a68516",
      "metadata": {},
      "outputs": [
        {
          "name": "stdout",
          "output_type": "stream",
          "text": [
            "Quantidade de apps com classificação 'Mature 17+': 447\n",
            "\n",
            "                                                App             Category  \\\n",
            "129             Secrets of beauty, youth and health               BEAUTY   \n",
            "133                  Dresses Ideas & Fashions +3000               BEAUTY   \n",
            "134                   Lady adviser (beauty, health)               BEAUTY   \n",
            "166                               Read books online  BOOKS_AND_REFERENCE   \n",
            "170                                         Flybook  BOOKS_AND_REFERENCE   \n",
            "...                                             ...                  ...   \n",
            "10735                                   FP VoiceBot               FAMILY   \n",
            "10765               Chat For Strangers - Video Chat               SOCIAL   \n",
            "10783  Modern Counter Terror Attack – Shooting Game                 GAME   \n",
            "10826     Frim: get new friends on local chat rooms               SOCIAL   \n",
            "10839                 The SCP Foundation DB fr nn5n  BOOKS_AND_REFERENCE   \n",
            "\n",
            "       Rating Reviews                Size    Installs  Type  Price  \\\n",
            "129       NaN      77                2.9M     10,000+  Free      0   \n",
            "133       4.5     473                8.2M    100,000+  Free      0   \n",
            "134       NaN      30                9.9M     10,000+  Free      0   \n",
            "166       4.1   91615                 23M  5,000,000+  Free      0   \n",
            "170       3.9    1778                4.9M    500,000+  Free      0   \n",
            "...       ...     ...                 ...         ...   ...    ...   \n",
            "10735     NaN      17                157k        100+  Paid  $0.99   \n",
            "10765     3.4     622  Varies with device    100,000+  Free      0   \n",
            "10783     4.2     340                 72M     50,000+  Free      0   \n",
            "10826     4.0   88486  Varies with device  5,000,000+  Free      0   \n",
            "10839     4.5     114  Varies with device      1,000+  Free      0   \n",
            "\n",
            "      Content Rating             Genres       Last Updated  \\\n",
            "129       Mature 17+             Beauty     August 8, 2017   \n",
            "133       Mature 17+             Beauty      March 1, 2017   \n",
            "134       Mature 17+             Beauty   January 24, 2018   \n",
            "166       Mature 17+  Books & Reference      June 29, 2018   \n",
            "170       Mature 17+  Books & Reference   October 16, 2014   \n",
            "...              ...                ...                ...   \n",
            "10735     Mature 17+      Entertainment  November 25, 2015   \n",
            "10765     Mature 17+             Social       May 23, 2018   \n",
            "10783     Mature 17+             Action   October 27, 2017   \n",
            "10826     Mature 17+             Social     March 23, 2018   \n",
            "10839     Mature 17+  Books & Reference   January 19, 2015   \n",
            "\n",
            "              Current Ver         Android Ver  \n",
            "129                   2.0          2.3 and up  \n",
            "133               1.0.2.0          1.6 and up  \n",
            "134                   3.0          3.0 and up  \n",
            "166                  3.12          4.1 and up  \n",
            "170                 1.0.3          2.1 and up  \n",
            "...                   ...                 ...  \n",
            "10735                 1.2          2.1 and up  \n",
            "10765  Varies with device  Varies with device  \n",
            "10783                 1.0          4.1 and up  \n",
            "10826  Varies with device  Varies with device  \n",
            "10839  Varies with device  Varies with device  \n",
            "\n",
            "[447 rows x 13 columns]\n"
          ]
        }
      ],
      "source": [
        "print(f\"Quantidade de apps com classificação 'Mature 17+': {quantidade_mature}\\n\")\n",
        "print(apps_mature)"
      ]
    }
  ],
  "metadata": {
    "kernelspec": {
      "display_name": "Python 3",
      "language": "python",
      "name": "python3"
    },
    "language_info": {
      "codemirror_mode": {
        "name": "ipython",
        "version": 3
      },
      "file_extension": ".py",
      "mimetype": "text/x-python",
      "name": "python",
      "nbconvert_exporter": "python",
      "pygments_lexer": "ipython3",
      "version": "3.13.3"
    }
  },
  "nbformat": 4,
  "nbformat_minor": 5
}
