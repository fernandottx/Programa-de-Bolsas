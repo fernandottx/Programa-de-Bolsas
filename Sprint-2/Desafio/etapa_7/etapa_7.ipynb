{
  "cells": [
    {
      "cell_type": "markdown",
      "id": "68018f1c-f647-4b31-b623-e10677171f59",
      "metadata": {},
      "source": [
        "Importa as bibliotecas necessárias"
      ]
    },
    {
      "cell_type": "code",
      "execution_count": 1,
      "id": "172b7678-450e-412d-a4c3-db2c1aedd2f4",
      "metadata": {
        "trusted": true
      },
      "outputs": [],
      "source": [
        "import pandas as pd"
      ]
    },
    {
      "cell_type": "markdown",
      "id": "56ae691b-20dc-4df7-974e-0a425b6792b2",
      "metadata": {},
      "source": [
        "Lê o arquivo CSV para um DataFrame do pandas"
      ]
    },
    {
      "cell_type": "code",
      "execution_count": 2,
      "id": "effe9fe6-5efb-405f-ad7a-78e71285e4de",
      "metadata": {
        "trusted": true
      },
      "outputs": [],
      "source": [
        "df = pd.read_csv('googleplaystore.csv')"
      ]
    },
    {
      "cell_type": "markdown",
      "id": "261d763f-ef2b-47b2-8304-513969580108",
      "metadata": {},
      "source": [
        "Remove as linhas duplicadas com base em todas as colunas"
      ]
    },
    {
      "cell_type": "code",
      "execution_count": 3,
      "id": "a69c4be8-a3ad-4f77-b8be-8bc3bc0a4a30",
      "metadata": {
        "trusted": true
      },
      "outputs": [],
      "source": [
        "df_sem_duplicatas = df.drop_duplicates()"
      ]
    },
    {
      "cell_type": "markdown",
      "id": "082f573e-970f-48a3-bb75-9a699dfb2855",
      "metadata": {},
      "source": [
        "Top 10 categorias com mais apps\n",
        "Conta quantos apps existem por categoria"
      ]
    },
    {
      "cell_type": "code",
      "execution_count": 4,
      "id": "031d6ff7-7361-40be-8469-bb98a17db5f8",
      "metadata": {
        "trusted": true
      },
      "outputs": [],
      "source": [
        "categorias_top10 = df_sem_duplicatas['Category'].value_counts().head(10)"
      ]
    },
    {
      "cell_type": "markdown",
      "id": "bef843a3-2b43-441a-b0a9-363e6d2ef15e",
      "metadata": {},
      "source": [
        "Exibição em formato de lista"
      ]
    },
    {
      "cell_type": "code",
      "execution_count": 5,
      "id": "205a1d0c-8cc4-4554-9a69-9f269c6bf312",
      "metadata": {
        "trusted": true
      },
      "outputs": [
        {
          "name": "stdout",
          "output_type": "stream",
          "text": [
            "Top 10 categorias com mais apps:\n",
            "Category\n",
            "FAMILY             1943\n",
            "GAME               1121\n",
            "TOOLS               843\n",
            "BUSINESS            427\n",
            "MEDICAL             408\n",
            "PRODUCTIVITY        407\n",
            "PERSONALIZATION     388\n",
            "LIFESTYLE           373\n",
            "COMMUNICATION       366\n",
            "FINANCE             360\n",
            "Name: count, dtype: int64\n"
          ]
        }
      ],
      "source": [
        "print(\"Top 10 categorias com mais apps:\")\n",
        "print(categorias_top10)"
      ]
    },
    {
      "cell_type": "markdown",
      "id": "c433505a-053f-400a-8145-0b488531310f",
      "metadata": {},
      "source": [
        "Média do tamanho dos apps\n",
        "Substitui 'Varies with device' por NaN (não disponível)"
      ]
    },
    {
      "cell_type": "code",
      "execution_count": 6,
      "id": "6ca8a6ef-c9e1-4ba6-885f-bc7fa03d76bd",
      "metadata": {
        "trusted": true
      },
      "outputs": [
        {
          "name": "stderr",
          "output_type": "stream",
          "text": [
            "C:\\Users\\Fernando\\AppData\\Local\\Temp\\ipykernel_10000\\1350493282.py:1: SettingWithCopyWarning: \n",
            "A value is trying to be set on a copy of a slice from a DataFrame.\n",
            "Try using .loc[row_indexer,col_indexer] = value instead\n",
            "\n",
            "See the caveats in the documentation: https://pandas.pydata.org/pandas-docs/stable/user_guide/indexing.html#returning-a-view-versus-a-copy\n",
            "  df_sem_duplicatas['Size'] = df_sem_duplicatas['Size'].replace('Varies with device', pd.NA)\n"
          ]
        }
      ],
      "source": [
        "df_sem_duplicatas['Size'] = df_sem_duplicatas['Size'].replace('Varies with device', pd.NA)"
      ]
    },
    {
      "cell_type": "markdown",
      "id": "aa9ab616-7fc8-42b5-a572-20d4faadab13",
      "metadata": {},
      "source": [
        "Remove os caracteres 'M' e 'k', convertendo os valores para MB"
      ]
    },
    {
      "cell_type": "code",
      "execution_count": 7,
      "id": "b0c1e52c-2b8b-4f59-a492-1334846905be",
      "metadata": {
        "trusted": true
      },
      "outputs": [
        {
          "name": "stderr",
          "output_type": "stream",
          "text": [
            "C:\\Users\\Fernando\\AppData\\Local\\Temp\\ipykernel_10000\\1336839105.py:1: SettingWithCopyWarning: \n",
            "A value is trying to be set on a copy of a slice from a DataFrame.\n",
            "Try using .loc[row_indexer,col_indexer] = value instead\n",
            "\n",
            "See the caveats in the documentation: https://pandas.pydata.org/pandas-docs/stable/user_guide/indexing.html#returning-a-view-versus-a-copy\n",
            "  df_sem_duplicatas['Size_MB'] = df_sem_duplicatas['Size'].str.replace('M', '')\n",
            "C:\\Users\\Fernando\\AppData\\Local\\Temp\\ipykernel_10000\\1336839105.py:2: SettingWithCopyWarning: \n",
            "A value is trying to be set on a copy of a slice from a DataFrame.\n",
            "Try using .loc[row_indexer,col_indexer] = value instead\n",
            "\n",
            "See the caveats in the documentation: https://pandas.pydata.org/pandas-docs/stable/user_guide/indexing.html#returning-a-view-versus-a-copy\n",
            "  df_sem_duplicatas['Size_MB'] = df_sem_duplicatas['Size_MB'].str.replace('k', '')\n",
            "C:\\Users\\Fernando\\AppData\\Local\\Temp\\ipykernel_10000\\1336839105.py:3: SettingWithCopyWarning: \n",
            "A value is trying to be set on a copy of a slice from a DataFrame.\n",
            "Try using .loc[row_indexer,col_indexer] = value instead\n",
            "\n",
            "See the caveats in the documentation: https://pandas.pydata.org/pandas-docs/stable/user_guide/indexing.html#returning-a-view-versus-a-copy\n",
            "  df_sem_duplicatas['Size_MB'] = pd.to_numeric(df_sem_duplicatas['Size_MB'], errors='coerce')\n"
          ]
        }
      ],
      "source": [
        "df_sem_duplicatas['Size_MB'] = df_sem_duplicatas['Size'].str.replace('M', '')\n",
        "df_sem_duplicatas['Size_MB'] = df_sem_duplicatas['Size_MB'].str.replace('k', '')\n",
        "df_sem_duplicatas['Size_MB'] = pd.to_numeric(df_sem_duplicatas['Size_MB'], errors='coerce')"
      ]
    },
    {
      "cell_type": "markdown",
      "id": "79f9e0ad-0fa7-4de9-a68a-9d2807eecbf6",
      "metadata": {},
      "source": [
        "Converte os tamanhos originalmente em kilobytes (k) para MB (dividindo por 1024)"
      ]
    },
    {
      "cell_type": "code",
      "execution_count": 8,
      "id": "a1e2b830-5553-4e1d-b1e8-e12497f92a4c",
      "metadata": {
        "trusted": true
      },
      "outputs": [],
      "source": [
        "df_sem_duplicatas.loc[df_sem_duplicatas['Size'].str.contains('k', na=False), 'Size_MB'] /= 1024"
      ]
    },
    {
      "cell_type": "markdown",
      "id": "f9a2c1e1-13ed-4780-8d44-84dea069393e",
      "metadata": {},
      "source": [
        "Cálculo da média"
      ]
    },
    {
      "cell_type": "code",
      "execution_count": 9,
      "id": "77ba29ea-7567-4b1f-bc2c-0830f952b854",
      "metadata": {
        "trusted": true
      },
      "outputs": [],
      "source": [
        "media_tamanho_mb = df_sem_duplicatas['Size_MB'].mean()"
      ]
    },
    {
      "cell_type": "markdown",
      "id": "aae4d973-4726-4bcc-8172-5985b99213bc",
      "metadata": {},
      "source": [
        "Exibição do resultado"
      ]
    },
    {
      "cell_type": "code",
      "execution_count": 10,
      "id": "380f35da-4e4a-4860-9a73-019a88eb6970",
      "metadata": {
        "trusted": true
      },
      "outputs": [
        {
          "name": "stdout",
          "output_type": "stream",
          "text": [
            "\n",
            "Média de tamanho dos apps: 21.29 MB\n"
          ]
        }
      ],
      "source": [
        "print(f\"\\nMédia de tamanho dos apps: {media_tamanho_mb:.2f} MB\")"
      ]
    }
  ],
  "metadata": {
    "kernelspec": {
      "display_name": "Python 3",
      "language": "python",
      "name": "python3"
    },
    "language_info": {
      "codemirror_mode": {
        "name": "ipython",
        "version": 3
      },
      "file_extension": ".py",
      "mimetype": "text/x-python",
      "name": "python",
      "nbconvert_exporter": "python",
      "pygments_lexer": "ipython3",
      "version": "3.13.3"
    }
  },
  "nbformat": 4,
  "nbformat_minor": 5
}
